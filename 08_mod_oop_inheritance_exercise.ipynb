{
 "cells": [
  {
   "cell_type": "markdown",
   "metadata": {},
   "source": [
    "Data Science Fundamentals: Python |\n",
    "[Table of Contents](../index.ipynb)\n",
    "- - - \n",
    "<!--NAVIGATION-->\n",
    "Module 8. | [Inheritance & Methods](./01_oop_inheritance.ipynb) | [Sequences, Iterables, Generators Revisited](02_revisited.ipynb) | **[Exercises](./03_inheritance_methods_exercises.ipynb)**"
   ]
  },
  {
   "cell_type": "markdown",
   "metadata": {},
   "source": [
    "# Module 8: Practice Exercises"
   ]
  },
  {
   "cell_type": "markdown",
   "metadata": {},
   "source": [
    "## Exercise 1. "
   ]
  },
  {
   "cell_type": "markdown",
   "metadata": {},
   "source": [
    "You are given two classes, Person and Student, where Person is the base class and Student is the derived class. Completed code for Person and a declaration for Student are provided for you in the editor. Observe that Student inherits all the properties of Person.\n",
    "\n",
    "Complete the Student class by writing the following:\n",
    "\n",
    "A Student class constructor, which has 4 parameters:\n",
    "- A string, firstName\n",
    "- A string, lastName\n",
    "- An integer, id\n",
    "An integer array (or vector) of test scores, scores\n",
    "\n",
    "A char **calculate()** method that calculates a Student object's average and returns the grade character representative of their calculated average:\n",
    "```\n",
    "A | 90-100\n",
    "B | 80-89\n",
    "C | 70-79\n",
    "D | 60-69\n",
    "F | <60\n",
    "```"
   ]
  },
  {
   "cell_type": "code",
   "execution_count": 228,
   "metadata": {},
   "outputs": [
    {
     "name": "stdout",
     "output_type": "stream",
     "text": [
      "Enter scores: 89 89 89\n",
      "Student Name:  Jocelin On\n",
      "Student ID:  3\n",
      "B\n",
      "Student Average:  None\n"
     ]
    }
   ],
   "source": [
    "class Person:\n",
    "    def __init__(self, firstName, lastName):\n",
    "        self.firstName = firstName\n",
    "        self.lastName = lastName\n",
    "        \n",
    "class Student(Person):\n",
    "    def __init__(self, firstName, lastName, studentID, testScores):\n",
    "            super().__init__(firstName, lastName)\n",
    "            self.studentID = studentID\n",
    "            self.testScores = testScores\n",
    "    def calculation(self):\n",
    "        if (90 <= self.testScores <= 100):\n",
    "            print('A')\n",
    "        elif (80 <= self.testScores <= 89):\n",
    "            print('B')\n",
    "        elif (70 <= self.testScores <= 79):\n",
    "            print('C')\n",
    "        elif (60 <= self.testScores <= 69):\n",
    "            print('D')\n",
    "        else:\n",
    "            print('F')\n",
    "\n",
    "x = input(\"Enter scores: \")\n",
    "x = x.split(' ')\n",
    "x = [int(i) for i in x]\n",
    "x = sum(x)/len(x)\n",
    "\n",
    "student1 = Student('Jocelin', 'On', 3, x)\n",
    "\n",
    "\n",
    "print(\"Student Name: \", student1.firstName, student1.lastName)\n",
    "print(\"Student ID: \", student1.studentID)\n",
    "student1.calculation()\n",
    "\n",
    "\n"
   ]
  },
  {
   "cell_type": "code",
   "execution_count": 7,
   "metadata": {},
   "outputs": [
    {
     "name": "stdout",
     "output_type": "stream",
     "text": [
      "\n",
      "Collecting class student information\n",
      "\n",
      "0 students in class so far\n",
      "Do you have another student to enter (y/n) ? y\n",
      "\n",
      "What is the student's name? jocelin on\n",
      "\n",
      "student : jocelin on\n",
      "-------------------\n",
      "Please enter the number of tests : 5\n",
      "test number 1 : 45\n",
      "test number 2 : 68\n",
      "test number 3 : 98\n",
      "test number 4 : 76\n",
      "test number 5 : 78\n",
      "\n",
      "1 students in class so far\n",
      "Do you have another student to enter (y/n) ? n\n",
      "\n",
      "Class Report\n",
      "\n",
      "student: jocelin on           average test score: 73.00  grade: C\n",
      "\n",
      "The class average is 73.00\n"
     ]
    }
   ],
   "source": [
    "class Student(object):\n",
    "    def __init__(self, name):\n",
    "        self.name, self.grades = name, []\n",
    "\n",
    "    def append_grade(self, grade):\n",
    "        self.grades.append(grade)\n",
    "\n",
    "    def average(self):\n",
    "        return sum(self.grades) / len(self.grades)\n",
    "\n",
    "    def letter_grade(self):\n",
    "        average = self.average()\n",
    "        for value, grade in (90, \"A\"), (80, \"B\"), (70, \"C\"), (60, \"D\"):\n",
    "            if average >= value:\n",
    "                return grade\n",
    "        else:\n",
    "            return \"F\"\n",
    "\n",
    "def main():\n",
    "    print()\n",
    "    print('Collecting class student information')\n",
    "    a_class = []  # \"class\" by itself is a reserved word in Python, avoid using\n",
    "    while True:\n",
    "        print()\n",
    "        print('{} students in class so far'.format(len(a_class)))\n",
    "        another_student = input('Do you have another student to enter (y/n) ? ')\n",
    "        if another_student[0].lower() != 'y':\n",
    "            break\n",
    "        print()\n",
    "        student_name = input('What is the student\\'s name? ')\n",
    "        a_class.append(Student(student_name))\n",
    "        print()\n",
    "        print('student :', student_name)\n",
    "        print('-------------------')\n",
    "        number_of_tests = int(input('Please enter the number of tests : '))\n",
    "        for test_num in range(1, number_of_tests+1):\n",
    "            print('test number {}'.format(test_num), end='')\n",
    "            score = float(input(' : '))\n",
    "            if score < 0:  # stop early?\n",
    "                break\n",
    "            a_class[-1].append_grade(score) # append to last student added\n",
    "\n",
    "    print_report(a_class)\n",
    "\n",
    "def print_report(a_class):\n",
    "    print()\n",
    "    print('Class Report')\n",
    "    print()\n",
    "    for student in sorted(a_class, key=lambda s: s.name):\n",
    "        print('student: {:20s} average test score: {:3.2f}  grade: {}'.format(\n",
    "            student.name, student.average(), student.letter_grade()))\n",
    "    print()\n",
    "    print('The class average is {:.2f}'.format(class_average(a_class)))\n",
    "\n",
    "def class_average(a_class):\n",
    "    return sum(student.average() for student in a_class) / len(a_class)\n",
    "\n",
    "main()\n"
   ]
  },
  {
   "cell_type": "code",
   "execution_count": 229,
   "metadata": {},
   "outputs": [
    {
     "name": "stderr",
     "output_type": "stream",
     "text": [
      "//anaconda3/lib/python3.7/site-packages/IPython/core/display.py:694: UserWarning: Consider using IPython.display.IFrame instead\n",
      "  warnings.warn(\"Consider using IPython.display.IFrame instead\")\n"
     ]
    },
    {
     "data": {
      "text/html": [
       "<iframe width=\"560\" height=\"315\" src=\"https://www.youtube.com/embed/GCd4auHwZZY?rel=0&amp;controls=0&amp;showinfo=0\" frameborder=\"0\" allowfullscreen></iframe>"
      ],
      "text/plain": [
       "<IPython.core.display.HTML object>"
      ]
     },
     "execution_count": 229,
     "metadata": {},
     "output_type": "execute_result"
    }
   ],
   "source": [
    "from IPython.display import HTML\n",
    "\n",
    "# Youtube\n",
    "HTML('<iframe width=\"560\" height=\"315\" src=\"https://www.youtube.com/embed/GCd4auHwZZY?rel=0&amp;controls=0&amp;showinfo=0\" frameborder=\"0\" allowfullscreen></iframe>')\n"
   ]
  },
  {
   "cell_type": "markdown",
   "metadata": {},
   "source": [
    "[How To Submit Your Exercises](https://www.youtube.com/watch?v=GCd4auHwZZY)"
   ]
  },
  {
   "cell_type": "markdown",
   "metadata": {},
   "source": [
    "- - - \n",
    "<!--NAVIGATION-->\n",
    "Module 8. | [Inheritance & Methods](./01_oop_inheritance.ipynb) | [Sequences, Iterables, Generators Revisited](02_revisited.ipynb) | **[Exercises](./03_inheritance_methods_exercises.ipynb)**\n",
    "<br>\n",
    "[Top](#)"
   ]
  },
  {
   "cell_type": "markdown",
   "metadata": {},
   "source": [
    "- - -\n",
    "\n",
    "Copyright © 2020 Qualex Consulting Services Incorporated."
   ]
  },
  {
   "cell_type": "code",
   "execution_count": null,
   "metadata": {},
   "outputs": [],
   "source": []
  }
 ],
 "metadata": {
  "kernelspec": {
   "display_name": "Python 3",
   "language": "python",
   "name": "python3"
  },
  "language_info": {
   "codemirror_mode": {
    "name": "ipython",
    "version": 3
   },
   "file_extension": ".py",
   "mimetype": "text/x-python",
   "name": "python",
   "nbconvert_exporter": "python",
   "pygments_lexer": "ipython3",
   "version": "3.7.3"
  }
 },
 "nbformat": 4,
 "nbformat_minor": 4
}
