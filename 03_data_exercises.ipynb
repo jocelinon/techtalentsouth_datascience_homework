{
 "cells": [
  {
   "cell_type": "markdown",
   "metadata": {},
   "source": [
    "Data Science Fundamentals: Python |\n",
    "[Table of Contents](../index.ipynb)\n",
    "- - - \n",
    "<!--NAVIGATION-->\n",
    "Module 2. Python Data | [Simple Types](./01_simple_types.ipynb) | [Data Structures](./02_data_structures.ipynb) | **[Exercises](./03_data_exercises.ipynb)**"
   ]
  },
  {
   "cell_type": "markdown",
   "metadata": {},
   "source": [
    "# Module 2: Practice Exercises"
   ]
  },
  {
   "cell_type": "markdown",
   "metadata": {},
   "source": [
    "1. Get a space-separated list of integers from the user, create a tuple of those integers. Then compute and print the result of hash(tuple).  [Hint](https://docs.python.org/3/library/functions.html#hash). **Hash()**"
   ]
  },
  {
   "cell_type": "markdown",
   "metadata": {},
   "source": [
    "A **[hash](https://en.wikipedia.org/wiki/Hash_function)** is an fixed sized integer that identifies a particular value. Each value needs to have its own hash, so for the same value you will get the same hash even if it's not the same object."
   ]
  },
  {
   "cell_type": "raw",
   "metadata": {},
   "source": [
    "hash(\"foo\")\n",
    "1849024199686380661"
   ]
  },
  {
   "cell_type": "code",
   "execution_count": 11,
   "metadata": {},
   "outputs": [
    {
     "name": "stdout",
     "output_type": "stream",
     "text": [
      "54 76 23 65\n"
     ]
    }
   ],
   "source": [
    "# Create program here \n",
    "# This reads a line, splits it at white spaces, and applies int() to every element of the result\n",
    "numbers = list(map(float, input().split(' ')))\n",
    "\n",
    "for i in range(0, len(numbers)): \n",
    "    numbers[i] = int(numbers[i]) \n"
   ]
  },
  {
   "cell_type": "code",
   "execution_count": 22,
   "metadata": {},
   "outputs": [
    {
     "name": "stdout",
     "output_type": "stream",
     "text": [
      "(54, 76, 23, 65)\n"
     ]
    }
   ],
   "source": [
    "# Create program here\n",
    "t_numbers = tuple(numbers)\n",
    "print(t_numbers)"
   ]
  },
  {
   "cell_type": "code",
   "execution_count": 23,
   "metadata": {},
   "outputs": [
    {
     "data": {
      "text/plain": [
       "-9223372036578621205"
      ]
     },
     "execution_count": 23,
     "metadata": {},
     "output_type": "execute_result"
    }
   ],
   "source": [
    "# Create program here\n",
    "hash(tuple)"
   ]
  },
  {
   "cell_type": "code",
   "execution_count": 24,
   "metadata": {},
   "outputs": [
    {
     "name": "stdout",
     "output_type": "stream",
     "text": [
      "Hash of the number is -9223372036578621205\n"
     ]
    }
   ],
   "source": [
    "# Create program here\n",
    "print(\"Hash of the number is\", str(hash(tuple)))"
   ]
  },
  {
   "cell_type": "code",
   "execution_count": 21,
   "metadata": {},
   "outputs": [],
   "source": [
    "# Create program here"
   ]
  },
  {
   "cell_type": "markdown",
   "metadata": {},
   "source": [
    "2. Take the following two lists. Create a third list by picking a odd-index elements from the first list and even-index elements from the second."
   ]
  },
  {
   "cell_type": "code",
   "execution_count": 29,
   "metadata": {},
   "outputs": [],
   "source": [
    "listOne = [3, 6, 9, 12, 15, 18, 21]\n",
    "listTwo = [4, 8, 12, 16, 20, 24, 28]"
   ]
  },
  {
   "cell_type": "code",
   "execution_count": 65,
   "metadata": {},
   "outputs": [
    {
     "name": "stdout",
     "output_type": "stream",
     "text": [
      "[3, 9, 15, 21] [8, 16, 24]\n",
      "[3, 9, 15, 21, 8, 16, 24]\n"
     ]
    }
   ],
   "source": [
    "# Separating odd and even index elements \n",
    "# Create program here\n",
    "\n",
    "# Create list outside of loop so it doesn't get re-written\n",
    "listThree = []\n",
    "\n",
    "for i in range(len(listOne)):\n",
    "    if (listOne[i] % 2 != 0): # If there is no denominator - should mean it is even\n",
    "        listThree.append(listOne[i])\n",
    "\n",
    "# Create list outside of loop so it doesn't get re-written\n",
    "listThreeEven = []        \n",
    "\n",
    "for i in range(len(listTwo)):\n",
    "    if (listOne[i] % 2 == 0):\n",
    "        listThreeEven.append(listTwo[i])\n",
    "        \n",
    "# Extend base list (listThree) with list 2\n",
    "listThree.extend(listThreeEven) \n",
    "\n",
    "print(listThreeOdd)"
   ]
  },
  {
   "cell_type": "markdown",
   "metadata": {},
   "source": [
    "3. Take the following list. Slice it into three equal chunks and reverse each list."
   ]
  },
  {
   "cell_type": "code",
   "execution_count": 66,
   "metadata": {},
   "outputs": [],
   "source": [
    "sampleList = [11, 45, 8, 23, 14, 12, 78, 45, 89]"
   ]
  },
  {
   "cell_type": "code",
   "execution_count": 96,
   "metadata": {},
   "outputs": [
    {
     "name": "stdout",
     "output_type": "stream",
     "text": [
      "[11, 45, 8] [45, 11, 8]\n",
      "[23, 14, 12] [23, 14, 12]\n",
      "[78, 45, 89] [89, 78, 45]\n"
     ]
    }
   ],
   "source": [
    "# Create program here \n",
    "# Using list slicing \n",
    "\n",
    "#listOne = sampleList[0:3]\n",
    "#listTwo = sampleList[3:6]\n",
    "#listThree = sampleList[6:9]\n",
    "\n",
    "listOne = sampleList[0:int((len(sampleList)*1/3))]\n",
    "listTwo = sampleList[int(len(sampleList)*1/3):int(len(sampleList)*2/3)]\n",
    "listThree = sampleList[int(len(sampleList)*2/3):int(len(sampleList)*3/3)]\n",
    "\n",
    "print(listOne, sorted(listOne, reverse=True))\n",
    "print(listTwo, sorted(listTwo, reverse=True))\n",
    "print(listThree, sorted(listThree, reverse=True))\n",
    "\n",
    "\n"
   ]
  },
  {
   "cell_type": "markdown",
   "metadata": {},
   "source": [
    "4. Iterate through a given list and check if a given element already exists in a dictionary as a key’s value. If not, delete it from the list."
   ]
  },
  {
   "cell_type": "code",
   "execution_count": 2,
   "metadata": {},
   "outputs": [],
   "source": [
    "rollNumber = [47, 64, 69, 37, 76, 83, 95, 97]\n",
    "sampleDict ={'Zach':47, 'Emma':69, 'Kelly':76, 'Jason':97}"
   ]
  },
  {
   "cell_type": "code",
   "execution_count": 4,
   "metadata": {},
   "outputs": [
    {
     "name": "stdout",
     "output_type": "stream",
     "text": [
      "[47, 69, 76, 97]\n"
     ]
    }
   ],
   "source": [
    "# Create program here \n",
    "# given key already exists in a dictionary. \n",
    "\n",
    "#print(rollNumber)\n",
    "#valueList = list(sampleDict.values())\n",
    "#print(valueList)\n",
    "\n",
    "#for i in range(len(rollNumber)):\n",
    "#    if (rollNumber[i] not in valueList):\n",
    "#        rollNumber.remove(rollNumber[i])\n",
    "#print(rollNumber)\n",
    "\n",
    "def main():\n",
    "    rollNumber = [47, 64, 69, 37, 76, 83, 95, 97]\n",
    "    sampleDict ={'Zach':47, 'Emma':69, 'Kelly':76, 'Jason':97} \n",
    "    rollNumber = list(filter(lambda i: i in sampleDict.values(), rollNumber))\n",
    "    print(rollNumber)\n",
    "    \n",
    "if __name__ == \"__main__\":\n",
    "    main()"
   ]
  },
  {
   "cell_type": "markdown",
   "metadata": {},
   "source": [
    "primitive values - integers\n",
    "complex values - lists\n",
    "\n",
    "stack memory: run things & throw away\n",
    "heap memory: execute over and over again"
   ]
  },
  {
   "cell_type": "markdown",
   "metadata": {},
   "source": [
    "- - - \n",
    "<!--NAVIGATION-->\n",
    "Module 2. Python Data | [Simple Types](./01_simple_types.ipynb) | [Data Structures](./02_data_structures.ipynb) | **[Exercises](./03_data_exercises.ipynb)**\n",
    "<br>\n",
    "[Top](#)"
   ]
  },
  {
   "cell_type": "markdown",
   "metadata": {},
   "source": [
    "- - -\n",
    "\n",
    "Copyright © 2020 Qualex Consulting Services Incorporated."
   ]
  },
  {
   "cell_type": "markdown",
   "metadata": {},
   "source": []
  }
 ],
 "metadata": {
  "kernelspec": {
   "display_name": "Python 3",
   "language": "python",
   "name": "python3"
  },
  "language_info": {
   "codemirror_mode": {
    "name": "ipython",
    "version": 3
   },
   "file_extension": ".py",
   "mimetype": "text/x-python",
   "name": "python",
   "nbconvert_exporter": "python",
   "pygments_lexer": "ipython3",
   "version": "3.7.3"
  }
 },
 "nbformat": 4,
 "nbformat_minor": 4
}
