{
 "cells": [
  {
   "cell_type": "markdown",
   "metadata": {},
   "source": [
    "Data Science Fundamentals: Python |\n",
    "[Table of Contents](../index.ipynb)\n",
    "- - - \n",
    "<!--NAVIGATION-->\n",
    "Module 1. [Basic Python Syntax](./01_mod_python_syntax.ipynb) | [Variables and Objects](./02_python_variables_objects.ipynb) | [Operators](./03_python_operators.ipynb) | **[Exercises](./04_mod_practice.ipynb)**"
   ]
  },
  {
   "cell_type": "markdown",
   "metadata": {},
   "source": [
    "# Module 1: Practice Exercises"
   ]
  },
  {
   "cell_type": "markdown",
   "metadata": {},
   "source": [
    "1. Accept the user's first and last name and print them in reverse order with a space between them"
   ]
  },
  {
   "cell_type": "code",
   "execution_count": 10,
   "metadata": {},
   "outputs": [
    {
     "name": "stdout",
     "output_type": "stream",
     "text": [
      "First Name: Jocelin\n",
      "Last Name: On\n",
      "On Jocelin\n"
     ]
    }
   ],
   "source": [
    "userFirstName = input(\"First Name: \")\n",
    "userLastName = input(\"Last Name: \")\n",
    "\n",
    "print(userLastName, userFirstName)\n",
    "#print(userFirstName + \" \" + userLastName)\n",
    "\n",
    "#def fcn_name(first_name, last_name):\n",
    "#    print(last_name, first_name)\n",
    "    \n",
    "#fcn_name('Juno', 'Wilkinson')"
   ]
  },
  {
   "cell_type": "markdown",
   "metadata": {},
   "source": [
    "2. Accept an integer (n) and compute the value of n+nn+nnn"
   ]
  },
  {
   "cell_type": "code",
   "execution_count": 5,
   "metadata": {},
   "outputs": [
    {
     "name": "stdout",
     "output_type": "stream",
     "text": [
      "Enter integer: 5\n",
      "155\n"
     ]
    }
   ],
   "source": [
    "n = int(input(\"Enter integer: \"))\n",
    "print(n+2*n+3*n)\n",
    "\n",
    "#def fcn_add(n):\n",
    "#    result = n+n*n+n*n*n\n",
    "#    print(result)\n",
    "#fcn_add(3)\n",
    "    \n",
    "#def fcn_add(n):\n",
    "#    result = n+n*n+n*n*n\n",
    "#    print(result)\n",
    "    \n",
    "#fcn_add(3)  \n",
    "\n"
   ]
  },
  {
   "cell_type": "markdown",
   "metadata": {},
   "source": [
    "3. Ask the user \"What country are you from?\" then print the following statement: \"I have heard that [input] is a beautiful country!\""
   ]
  },
  {
   "cell_type": "code",
   "execution_count": 7,
   "metadata": {},
   "outputs": [
    {
     "name": "stdout",
     "output_type": "stream",
     "text": [
      "What country are you from?Canada\n",
      "I have heard that Canada is a beautiful country!\n"
     ]
    }
   ],
   "source": [
    "country = str(input(\"What country are you from?\"))\n",
    "print(\"I have heard that\", country, \"is a beautiful country!\")\n",
    "\n",
    "#def fcn_origin(country):\n",
    "#    statement1 = \"I have heard that\" \n",
    "#    statement2 = \"is a beautiful country!\"\n",
    "#    print(statement1, country, statement2)\n",
    "    \n",
    "#fcn_origin(\"Canada\")\n",
    "    "
   ]
  },
  {
   "cell_type": "markdown",
   "metadata": {},
   "source": [
    "4. Write a for loop that multiplies the number 4 by all the integers from 0 to 10 and prints the following for each: \"4 multiplied by [i] is [x]\" "
   ]
  },
  {
   "cell_type": "code",
   "execution_count": 12,
   "metadata": {},
   "outputs": [
    {
     "name": "stdout",
     "output_type": "stream",
     "text": [
      "4 multiplied by 0 is 0\n",
      "4 multiplied by 1 is 4\n",
      "4 multiplied by 2 is 8\n",
      "4 multiplied by 3 is 12\n",
      "4 multiplied by 4 is 16\n",
      "4 multiplied by 5 is 20\n",
      "4 multiplied by 6 is 24\n",
      "4 multiplied by 7 is 28\n",
      "4 multiplied by 8 is 32\n",
      "4 multiplied by 9 is 36\n",
      "4 multiplied by 10 is 40\n"
     ]
    }
   ],
   "source": [
    "#for i in range(1,11):\n",
    "#    result = 4 * i\n",
    "#    statement1 = \"4 multiplied by\"\n",
    "#    statement2 = \"is\"\n",
    "#    print(statement1, i, statement2, result)\n",
    "\n",
    "for i in range(11):\n",
    "    print(\"4 multiplied by\", str(i), \"is\", str(4*i))"
   ]
  },
  {
   "cell_type": "markdown",
   "metadata": {},
   "source": [
    "5. Print a multiplication table that matches the following. Use two nested for loops to achieve this."
   ]
  },
  {
   "cell_type": "markdown",
   "metadata": {},
   "source": [
    "<img src=\"files/table.png\">"
   ]
  },
  {
   "cell_type": "code",
   "execution_count": 13,
   "metadata": {},
   "outputs": [
    {
     "name": "stdout",
     "output_type": "stream",
     "text": [
      "1\t2\t3\t4\t5\t6\t7\t8\t9\t10\t\n",
      "2\t4\t6\t8\t10\t12\t14\t16\t18\t20\t\n",
      "3\t6\t9\t12\t15\t18\t21\t24\t27\t30\t\n",
      "4\t8\t12\t16\t20\t24\t28\t32\t36\t40\t\n",
      "5\t10\t15\t20\t25\t30\t35\t40\t45\t50\t\n",
      "6\t12\t18\t24\t30\t36\t42\t48\t54\t60\t\n",
      "7\t14\t21\t28\t35\t42\t49\t56\t63\t70\t\n",
      "8\t16\t24\t32\t40\t48\t56\t64\t72\t80\t\n",
      "9\t18\t27\t36\t45\t54\t63\t72\t81\t90\t\n",
      "10\t20\t30\t40\t50\t60\t70\t80\t90\t100\t\n"
     ]
    }
   ],
   "source": [
    "for i in range(1, 11):\n",
    "    for j in range(1, 11):\n",
    "        print(i * j, end = \"\\t\") # tab after each value\n",
    "    print('') # new line after each set of 10\n",
    "    "
   ]
  },
  {
   "cell_type": "markdown",
   "metadata": {},
   "source": [
    "6. **Supplemental.** Write a program that prints out the results of at least one calculation for each of the basic operations: addition, subtraction, multiplication, division, and exponents."
   ]
  },
  {
   "cell_type": "code",
   "execution_count": 26,
   "metadata": {},
   "outputs": [
    {
     "name": "stdout",
     "output_type": "stream",
     "text": [
      "0\t1\t2\t3\t4\t5\t6\t7\t8\t9\t10\t\n",
      "1\t2\t3\t4\t5\t6\t7\t8\t9\t10\t11\t\n",
      "2\t3\t4\t5\t6\t7\t8\t9\t10\t11\t12\t\n",
      "3\t4\t5\t6\t7\t8\t9\t10\t11\t12\t13\t\n",
      "4\t5\t6\t7\t8\t9\t10\t11\t12\t13\t14\t\n",
      "5\t6\t7\t8\t9\t10\t11\t12\t13\t14\t15\t\n",
      "6\t7\t8\t9\t10\t11\t12\t13\t14\t15\t16\t\n",
      "7\t8\t9\t10\t11\t12\t13\t14\t15\t16\t17\t\n",
      "8\t9\t10\t11\t12\t13\t14\t15\t16\t17\t18\t\n",
      "9\t10\t11\t12\t13\t14\t15\t16\t17\t18\t19\t\n",
      "10\t11\t12\t13\t14\t15\t16\t17\t18\t19\t20\t\n",
      "\n",
      "\n",
      "0\t-1\t-2\t-3\t-4\t-5\t-6\t-7\t-8\t-9\t-10\t\n",
      "1\t0\t-1\t-2\t-3\t-4\t-5\t-6\t-7\t-8\t-9\t\n",
      "2\t1\t0\t-1\t-2\t-3\t-4\t-5\t-6\t-7\t-8\t\n",
      "3\t2\t1\t0\t-1\t-2\t-3\t-4\t-5\t-6\t-7\t\n",
      "4\t3\t2\t1\t0\t-1\t-2\t-3\t-4\t-5\t-6\t\n",
      "5\t4\t3\t2\t1\t0\t-1\t-2\t-3\t-4\t-5\t\n",
      "6\t5\t4\t3\t2\t1\t0\t-1\t-2\t-3\t-4\t\n",
      "7\t6\t5\t4\t3\t2\t1\t0\t-1\t-2\t-3\t\n",
      "8\t7\t6\t5\t4\t3\t2\t1\t0\t-1\t-2\t\n",
      "9\t8\t7\t6\t5\t4\t3\t2\t1\t0\t-1\t\n",
      "10\t9\t8\t7\t6\t5\t4\t3\t2\t1\t0\t\n",
      "\n",
      "\n",
      "1\t2\t3\t4\t5\t6\t7\t8\t9\t10\t\n",
      "2\t4\t6\t8\t10\t12\t14\t16\t18\t20\t\n",
      "3\t6\t9\t12\t15\t18\t21\t24\t27\t30\t\n",
      "4\t8\t12\t16\t20\t24\t28\t32\t36\t40\t\n",
      "5\t10\t15\t20\t25\t30\t35\t40\t45\t50\t\n",
      "6\t12\t18\t24\t30\t36\t42\t48\t54\t60\t\n",
      "7\t14\t21\t28\t35\t42\t49\t56\t63\t70\t\n",
      "8\t16\t24\t32\t40\t48\t56\t64\t72\t80\t\n",
      "9\t18\t27\t36\t45\t54\t63\t72\t81\t90\t\n",
      "10\t20\t30\t40\t50\t60\t70\t80\t90\t100\t\n",
      "\n",
      "\n",
      "1.0\t0.5\t0.3333333333333333\t0.25\t0.2\t0.16666666666666666\t0.14285714285714285\t0.125\t0.1111111111111111\t0.1\t\n",
      "\n",
      "\n",
      "2.0\t1.0\t0.6666666666666666\t0.5\t0.4\t0.3333333333333333\t0.2857142857142857\t0.25\t0.2222222222222222\t0.2\t\n",
      "\n",
      "\n",
      "3.0\t1.5\t1.0\t0.75\t0.6\t0.5\t0.42857142857142855\t0.375\t0.3333333333333333\t0.3\t\n",
      "\n",
      "\n",
      "4.0\t2.0\t1.3333333333333333\t1.0\t0.8\t0.6666666666666666\t0.5714285714285714\t0.5\t0.4444444444444444\t0.4\t\n",
      "\n",
      "\n",
      "5.0\t2.5\t1.6666666666666667\t1.25\t1.0\t0.8333333333333334\t0.7142857142857143\t0.625\t0.5555555555555556\t0.5\t\n",
      "\n",
      "\n",
      "6.0\t3.0\t2.0\t1.5\t1.2\t1.0\t0.8571428571428571\t0.75\t0.6666666666666666\t0.6\t\n",
      "\n",
      "\n",
      "7.0\t3.5\t2.3333333333333335\t1.75\t1.4\t1.1666666666666667\t1.0\t0.875\t0.7777777777777778\t0.7\t\n",
      "\n",
      "\n",
      "8.0\t4.0\t2.6666666666666665\t2.0\t1.6\t1.3333333333333333\t1.1428571428571428\t1.0\t0.8888888888888888\t0.8\t\n",
      "\n",
      "\n",
      "9.0\t4.5\t3.0\t2.25\t1.8\t1.5\t1.2857142857142858\t1.125\t1.0\t0.9\t\n",
      "\n",
      "\n",
      "10.0\t5.0\t3.3333333333333335\t2.5\t2.0\t1.6666666666666667\t1.4285714285714286\t1.25\t1.1111111111111112\t1.0\t\n",
      "\n",
      "\n",
      "1\t1\t1\t1\t1\t1\t1\t1\t1\t1\t\n",
      "2\t4\t8\t16\t32\t64\t128\t256\t512\t1024\t\n",
      "3\t9\t27\t81\t243\t729\t2187\t6561\t19683\t59049\t\n",
      "4\t16\t64\t256\t1024\t4096\t16384\t65536\t262144\t1048576\t\n",
      "5\t25\t125\t625\t3125\t15625\t78125\t390625\t1953125\t9765625\t\n",
      "6\t36\t216\t1296\t7776\t46656\t279936\t1679616\t10077696\t60466176\t\n",
      "7\t49\t343\t2401\t16807\t117649\t823543\t5764801\t40353607\t282475249\t\n",
      "8\t64\t512\t4096\t32768\t262144\t2097152\t16777216\t134217728\t1073741824\t\n",
      "9\t81\t729\t6561\t59049\t531441\t4782969\t43046721\t387420489\t3486784401\t\n",
      "10\t100\t1000\t10000\t100000\t1000000\t10000000\t100000000\t1000000000\t10000000000\t\n"
     ]
    }
   ],
   "source": [
    "for i in range(0, 11):\n",
    "    for j in range(0, 11):\n",
    "        print(i + j, end = \"\\t\") # tab after each value\n",
    "    print('') # new line after each set of 10\n",
    "    \n",
    "print(\"\\n\")\n",
    "\n",
    "for i in range(0, 11):\n",
    "    for j in range(0, 11):\n",
    "        print(i - j, end = \"\\t\") # tab after each value\n",
    "    print('') # new line after each set of 10\n",
    "    \n",
    "print(\"\\n\")\n",
    "\n",
    "for i in range(1, 11):\n",
    "    for j in range(1, 11):\n",
    "        print(i * j, end = \"\\t\") # tab after each value\n",
    "    print('') # new line after each set of 10\n",
    "    \n",
    "print(\"\\n\")\n",
    "\n",
    "for i in range(1, 11):\n",
    "    for j in range(1, 11):\n",
    "        print(i / j, end = \"\\t\") # tab after each value\n",
    "    print('') # new line after each set of 10\n",
    "\n",
    "    print(\"\\n\")\n",
    "\n",
    "for i in range(1, 11):\n",
    "    for j in range(1, 11):\n",
    "        print(i ** j, end = \"\\t\") # tab after each value\n",
    "    print('') # new line after each set of 10\n",
    "\n"
   ]
  },
  {
   "cell_type": "markdown",
   "metadata": {},
   "source": [
    "7. **Optional.** Find a calculation whose result depends on the order of operations. Print the result of this calculation using the standard order of operations. Use parentheses to force a nonstandard order of operations. Print the result of this calculation."
   ]
  },
  {
   "cell_type": "code",
   "execution_count": 1,
   "metadata": {},
   "outputs": [
    {
     "name": "stdout",
     "output_type": "stream",
     "text": [
      "11\n",
      "21\n"
     ]
    }
   ],
   "source": [
    "print(3*2+5)\n",
    "print(3*(2+5))"
   ]
  },
  {
   "cell_type": "markdown",
   "metadata": {},
   "source": [
    "<!--NAVIGATION-->\n",
    "Module 1. [Basic Python Syntax](./01_mod_python_syntax.ipynb) | [Variables and Objects](./02_python_variables_objects.ipynb) | [Operators](./03_python_operators.ipynb) | **[Practice](./04_mod_practice.ipynb)**\n",
    "<br>\n",
    "[top](#)"
   ]
  }
 ],
 "metadata": {
  "kernelspec": {
   "display_name": "Python 3",
   "language": "python",
   "name": "python3"
  },
  "language_info": {
   "codemirror_mode": {
    "name": "ipython",
    "version": 3
   },
   "file_extension": ".py",
   "mimetype": "text/x-python",
   "name": "python",
   "nbconvert_exporter": "python",
   "pygments_lexer": "ipython3",
   "version": "3.7.3"
  }
 },
 "nbformat": 4,
 "nbformat_minor": 4
}
