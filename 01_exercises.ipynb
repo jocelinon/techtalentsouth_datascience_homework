{
 "cells": [
  {
   "cell_type": "markdown",
   "metadata": {},
   "source": [
    "<a id=\"Exercises-variables\"></a>\n",
    "Exercises - Variables\n",
    "---\n",
    "#### Hello World - variable\n",
    "\n",
    "- Store your own version of the message \"Hello World\" in a variable, and print it."
   ]
  },
  {
   "cell_type": "code",
   "execution_count": 1,
   "metadata": {},
   "outputs": [
    {
     "name": "stdout",
     "output_type": "stream",
     "text": [
      "Hello World\n"
     ]
    }
   ],
   "source": [
    "my_message = \"Hello World!\"\n",
    "print(my_message)"
   ]
  },
  {
   "cell_type": "markdown",
   "metadata": {},
   "source": [
    "#### One Variable, Two Messages:\n",
    "- Store a message in a variable, and then print that message.\n",
    "- Store a new message in the same variable, and then print that new message."
   ]
  },
  {
   "cell_type": "code",
   "execution_count": 16,
   "metadata": {
    "scrolled": true
   },
   "outputs": [
    {
     "name": "stdout",
     "output_type": "stream",
     "text": [
      "Meow\n",
      "Ruff\n"
     ]
    }
   ],
   "source": [
    "my_other_message = \"Meow\"\n",
    "print(my_other_message)\n",
    "\n",
    "my_other_message = \"Ruff\"\n",
    "print(my_other_message)"
   ]
  },
  {
   "cell_type": "markdown",
   "metadata": {},
   "source": [
    "<a id=\"Exercises-strings\"></a>\n",
    "Exercises - Strings\n",
    "---"
   ]
  },
  {
   "cell_type": "code",
   "execution_count": 6,
   "metadata": {},
   "outputs": [
    {
     "name": "stdout",
     "output_type": "stream",
     "text": [
      "Juno Wilkinson, thank you for your visit. I hope you enjoyed your dinner!\n"
     ]
    }
   ],
   "source": [
    "mobile_firstname = \"juno\"\n",
    "mobile_lastname = \"wilkinson\"\n",
    "mobile_fullname = mobile_firstname + ' ' + mobile_lastname\n",
    "\n",
    "sms_message = mobile_fullname.title() + ', ' + \"thank you for your visit. I hope you enjoyed your dinner!\" \n",
    "print(sms_message)\n"
   ]
  },
  {
   "cell_type": "markdown",
   "metadata": {},
   "source": [
    "#### Someone Said\n",
    "- Find a quote that you like. Store the quote in a variable, with an appropriate introduction such as \"Ken Thompson once said, 'One of my most productive days was throwing away 1000 lines of code'\". Print the quote.\n",
    "\n"
   ]
  },
  {
   "cell_type": "code",
   "execution_count": 12,
   "metadata": {},
   "outputs": [
    {
     "name": "stdout",
     "output_type": "stream",
     "text": [
      "Mahatma Gandhi once said: \"Be the change that you wish to see in the world\"\n"
     ]
    }
   ],
   "source": [
    "quote = \"Be the change that you wish to see in the world\"\n",
    "quotee = 'Mahatma Gandhi'\n",
    "\n",
    "message = quotee + ' once said: \"' + quote + '\"'\n",
    "print(message)"
   ]
  },
  {
   "cell_type": "markdown",
   "metadata": {},
   "source": [
    "\n",
    "#### First Name Cases\n",
    "- Store your first name, in lowercase, in a variable.\n",
    "- Using that one variable, print your name in lowercase, Titlecase, and UPPERCASE."
   ]
  },
  {
   "cell_type": "code",
   "execution_count": 15,
   "metadata": {},
   "outputs": [
    {
     "name": "stdout",
     "output_type": "stream",
     "text": [
      "Jocelin\n",
      "JOCELIN\n",
      "jocelin\n"
     ]
    }
   ],
   "source": [
    "name = 'jocelin'\n",
    "\n",
    "print(name.title())\n",
    "print(name.upper())\n",
    "print(name.lower())"
   ]
  },
  {
   "cell_type": "markdown",
   "metadata": {},
   "source": [
    "#### Full Name\n",
    "- Store your first name and last name in separate variables, and then combine them to print out your full name."
   ]
  },
  {
   "cell_type": "code",
   "execution_count": 18,
   "metadata": {},
   "outputs": [
    {
     "name": "stdout",
     "output_type": "stream",
     "text": [
      "Jocelin On\n"
     ]
    }
   ],
   "source": [
    "first_name = \"Jocelin\"\n",
    "last_name = \"On\"\n",
    "\n",
    "print(first_name + \" \" + last_name)"
   ]
  },
  {
   "cell_type": "markdown",
   "metadata": {},
   "source": [
    "#### About This Person\n",
    "- Choose a person you look up to. Store their first and last names in separate variables.\n",
    "- Use concatenation to make a sentence about this person, and store that sentence in a variable.-\n",
    "- Print the sentence."
   ]
  },
  {
   "cell_type": "code",
   "execution_count": 22,
   "metadata": {},
   "outputs": [
    {
     "name": "stdout",
     "output_type": "stream",
     "text": [
      "Forrest Wilkinson is very hardworking and truly inspirational.\n"
     ]
    }
   ],
   "source": [
    "first_name = \"Forrest\"\n",
    "last_name = \"Wilkinson\"\n",
    "\n",
    "sentence = first_name + ' ' + last_name + ' is very hardworking and truly inspirational.'\n",
    "print(sentence)"
   ]
  },
  {
   "cell_type": "markdown",
   "metadata": {},
   "source": [
    "#### Name Strip\n",
    "- Store your first name in a variable, but include at least two kinds of whitespace on each side of your name.\n",
    "- Print your name as it is stored.\n",
    "- Print your name with whitespace stripped from the left side, then from the right side, then from both sides."
   ]
  },
  {
   "cell_type": "code",
   "execution_count": 28,
   "metadata": {},
   "outputs": [
    {
     "name": "stdout",
     "output_type": "stream",
     "text": [
      " Jocelin \n",
      "Jocelin \n",
      " Jocelin\n",
      "Jocelin\n"
     ]
    }
   ],
   "source": [
    "first_name = ' Jocelin '\n",
    "print(first_name)\n",
    "print(first_name.lstrip())\n",
    "print(first_name.rstrip())\n",
    "print(first_name.strip())"
   ]
  },
  {
   "cell_type": "markdown",
   "metadata": {},
   "source": [
    "<a id=\"Exercises-numbers\"></a>\n",
    "Exercises - Numbers\n",
    "---\n",
    "#### Arithmetic\n",
    "- Write a program that prints out the results of at least one calculation for each of the basic operations: addition, subtraction, multiplication, division, and exponents."
   ]
  },
  {
   "cell_type": "code",
   "execution_count": 35,
   "metadata": {},
   "outputs": [
    {
     "name": "stdout",
     "output_type": "stream",
     "text": [
      "6\n",
      "0\n",
      "9\n",
      "1.0\n",
      "27\n"
     ]
    }
   ],
   "source": [
    "print(3+3)\n",
    "print(3-3)\n",
    "print(3*3)\n",
    "print(3/3)\n",
    "print(3**3)"
   ]
  },
  {
   "cell_type": "markdown",
   "metadata": {},
   "source": [
    "#### Order of Operations\n",
    "- Find a calculation whose result depends on the order of operations.\n",
    "- Print the result of this calculation using the standard order of operations.\n",
    "- Use parentheses to force a nonstandard order of operations. Print the result of this calculation."
   ]
  },
  {
   "cell_type": "code",
   "execution_count": 36,
   "metadata": {},
   "outputs": [
    {
     "name": "stdout",
     "output_type": "stream",
     "text": [
      "11\n",
      "21\n"
     ]
    }
   ],
   "source": [
    "print(3*2+5)\n",
    "print(3*(2+5))"
   ]
  },
  {
   "cell_type": "markdown",
   "metadata": {},
   "source": [
    "#### Long Decimals\n",
    "- On paper, 0.1+0.2=0.3. But you have seen that in Python, 0.1+0.2=0.30000000000000004.\n",
    "- Find at least one other calculation that results in a long decimal like this."
   ]
  },
  {
   "cell_type": "code",
   "execution_count": 56,
   "metadata": {},
   "outputs": [
    {
     "name": "stdout",
     "output_type": "stream",
     "text": [
      "3.141592653589793\n",
      "0.8333333333333334\n"
     ]
    }
   ],
   "source": [
    "import math\n",
    "print(math.pi)\n",
    "print(2.5/3)"
   ]
  },
  {
   "cell_type": "markdown",
   "metadata": {},
   "source": [
    "<a id=\"Challenges-numbers\">\n",
    "Challenges \n",
    "---\n",
    "#### Neat Arithmetic\n",
    "\n",
    "- Store the results of at least 5 different calculations in separate variables. Make sure you use each operation at least once.\n",
    "- Print a series of informative statements, such as \"The result of the calculation 5+7 is 12.\""
   ]
  },
  {
   "cell_type": "code",
   "execution_count": 76,
   "metadata": {},
   "outputs": [
    {
     "name": "stdout",
     "output_type": "stream",
     "text": [
      "The result of the calculation: 5 + 1 is  6 .\n",
      "The result of the calculation: 1 * 9 is  9 .\n",
      "The result of the calculation: 9 - 0 is  9 .\n",
      "The result of the calculation: 0 / 8 is  0.0 .\n",
      "The result of the calculation: 8 ^ 5 is  32768 .\n"
     ]
    }
   ],
   "source": [
    "a = 5\n",
    "b = 1\n",
    "c = 9\n",
    "d = 0\n",
    "e = 8\n",
    "\n",
    "sentence_piece1 = 'The result of the calculation:'\n",
    "sentence_piece2 = 'is '\n",
    "sentence_piece3 = '.'\n",
    "\n",
    "print(sentence_piece1, a,'+',  b , sentence_piece2, a+b, sentence_piece3)\n",
    "print(sentence_piece1, b,'*',  c , sentence_piece2, b*c, sentence_piece3)\n",
    "print(sentence_piece1, c,'-',  d , sentence_piece2, c-d, sentence_piece3)\n",
    "print(sentence_piece1, d,'/',  e , sentence_piece2, d/e, sentence_piece3)\n",
    "print(sentence_piece1, e,'^',  a , sentence_piece2, e**a, sentence_piece3)\n"
   ]
  },
  {
   "cell_type": "markdown",
   "metadata": {},
   "source": [
    "#### Neat Order of Operations\n",
    "- Take your work for \"Order of Operations\" above.\n",
    "- Instead of just printing the results, print an informative summary of the results. Show each calculation that is being done and the result of that calculation. Explain how you modified the result using parentheses."
   ]
  },
  {
   "cell_type": "code",
   "execution_count": 92,
   "metadata": {},
   "outputs": [
    {
     "name": "stdout",
     "output_type": "stream",
     "text": [
      "3*2+5\n",
      "3 * 2 is calculated first which equals 6 . Then 6 + 5 is calculated which equals 11\n",
      "3*(2+5)\n",
      "In this case, we are forcing to add 2 and  5 first. This equals  7 . Then, we multiply 7 by 3 which equals 21\n"
     ]
    }
   ],
   "source": [
    "a = 3\n",
    "b = 2\n",
    "c = 5\n",
    "\n",
    "print('3*2+5')\n",
    "print(a, '*', b , 'is calculated first which equals', a*b , '. Then', a*b, '+', c, 'is calculated which equals', a*b+c)\n",
    "print('3*(2+5)')\n",
    "print('In this case, we are forcing to add', b, 'and ', c, 'first. This equals ', b+c, '. Then, we multiply', b+c, 'by', a, 'which equals', a*(b+c) )\n",
    "\n"
   ]
  },
  {
   "cell_type": "markdown",
   "metadata": {},
   "source": [
    "#### Long Decimals - Pattern\n",
    "- On paper, 0.1+0.2=0.3. But you have seen that in Python, 0.1+0.2=0.30000000000000004.\n",
    "- Find a number of other calculations that result in a long decimal like this. Try to find a pattern in what kinds of numbers will result in long decimals."
   ]
  },
  {
   "cell_type": "code",
   "execution_count": 95,
   "metadata": {},
   "outputs": [
    {
     "name": "stdout",
     "output_type": "stream",
     "text": [
      "0.5833333333333334\n",
      "0.10606060606060606\n"
     ]
    }
   ],
   "source": [
    "print(3.5/6)\n",
    "print(3.5/33)"
   ]
  },
  {
   "cell_type": "code",
   "execution_count": null,
   "metadata": {},
   "outputs": [],
   "source": []
  }
 ],
 "metadata": {
  "kernelspec": {
   "display_name": "Python 3",
   "language": "python",
   "name": "python3"
  },
  "language_info": {
   "codemirror_mode": {
    "name": "ipython",
    "version": 3
   },
   "file_extension": ".py",
   "mimetype": "text/x-python",
   "name": "python",
   "nbconvert_exporter": "python",
   "pygments_lexer": "ipython3",
   "version": "3.7.3"
  }
 },
 "nbformat": 4,
 "nbformat_minor": 2
}
