{
 "cells": [
  {
   "cell_type": "markdown",
   "metadata": {},
   "source": [
    "Data Science Fundamentals: Python |\n",
    "[Table of Contents](../index.ipynb)\n",
    "- - - \n",
    "<!--NAVIGATION-->\n",
    "Module 3. [Control Flow](./01_mod_control_flow.ipynb) | [Statements](./02_python_statements.ipynb) | [Functions](./03_python_functions.ipynb) | **[Exercises](./04_mod_exercises.ipynb)**"
   ]
  },
  {
   "cell_type": "markdown",
   "metadata": {},
   "source": [
    "# Module 3: Practice Exercises"
   ]
  },
  {
   "cell_type": "markdown",
   "metadata": {},
   "source": [
    "1. Guess a number between 1 to 9 given by the user. Hint. [Random](https://docs.python.org/3/library/random.html)"
   ]
  },
  {
   "cell_type": "code",
   "execution_count": 48,
   "metadata": {},
   "outputs": [
    {
     "name": "stdout",
     "output_type": "stream",
     "text": [
      "Pick number between 1 and 9: 3\n",
      "Not 0\n",
      "Not 1\n",
      "Not 2\n",
      "The number is:  3\n"
     ]
    }
   ],
   "source": [
    "guess = int(input(\"Pick number between 1 and 9: \"))\n",
    "\n",
    "i = 0\n",
    "while i < guess:\n",
    "    print(\"Not\", i)\n",
    "    i += 1\n",
    "    if (i == guess):\n",
    "        print(\"The number is: \", i)\n",
    "\n",
    "        "
   ]
  },
  {
   "cell_type": "markdown",
   "metadata": {},
   "source": [
    "2. Check the validity of password input by the user. Hint. [Re](https://docs.python.org/3/library/re.html) which does matching operations much like Perl.\n",
    "\n",
    "Validation:\n",
    "\n",
    "- At least 1 letter between [a-z] and 1 letter between [A-Z].\n",
    "- At least 1 number between [0-9].\n",
    "- At least 1 character from [$#@].\n",
    "- Minimum length 6 characters.\n",
    "- Maximum length 16 characters."
   ]
  },
  {
   "cell_type": "code",
   "execution_count": 83,
   "metadata": {},
   "outputs": [
    {
     "name": "stdout",
     "output_type": "stream",
     "text": [
      "Enter password: Junowlk\n",
      "No number\n",
      "No special character ($, #, @)\n"
     ]
    }
   ],
   "source": [
    "import re\n",
    "\n",
    "password = str(input(\"Enter password: \"))\n",
    "\n",
    "\n",
    "lowerCase = re.findall(\"[a-z]\", password)\n",
    "upperCase = re.findall(\"[A-Z]\", password)\n",
    "number = re.findall(\"[0-9]\", password)\n",
    "specialCharacter = re.findall(\"[$#@]\", password)\n",
    "minLen = int(6)\n",
    "maxLen = 16\n",
    "\n",
    "flag = 0\n",
    "\n",
    "if (lowerCase == []):\n",
    "    flag += 1\n",
    "    print(\"No lower case\")\n",
    "if (upperCase == []):\n",
    "    flag += 1\n",
    "    print(\"No upper case\")\n",
    "if(number == []):\n",
    "    flag += 1\n",
    "    print(\"No number\")    \n",
    "if(specialCharacter == []):\n",
    "    flag += 1\n",
    "    print(\"No special character ($, #, @)\")\n",
    "if (len(password) < minLen):\n",
    "    flag += 1\n",
    "    print(\"Password is too short (min length 6)\")\n",
    "if (len(password) > maxLen):\n",
    "    flag += 1\n",
    "    print(\"Password is too long (max length 16)\")\n",
    "if (flag ==0):\n",
    "    print(\"Valid password\")"
   ]
  },
  {
   "cell_type": "markdown",
   "metadata": {},
   "source": [
    "3. Get input of the age of 3 people by user and determine oldest and youngest among them"
   ]
  },
  {
   "cell_type": "code",
   "execution_count": 151,
   "metadata": {},
   "outputs": [
    {
     "name": "stdout",
     "output_type": "stream",
     "text": [
      "What is your age of Person 1?1\n",
      "What is your age of Person 2?8\n",
      "What is your age of Person 3?3\n",
      "Person 1 is youngest\n",
      "Person 2 is oldest\n"
     ]
    }
   ],
   "source": [
    "age1 = int(input(\"What is your age of Person 1?\"))\n",
    "age2 = int(input(\"What is your age of Person 2?\"))\n",
    "age3 = int(input(\"What is your age of Person 3?\"))\n",
    "\n",
    "ageDict = {'Person 1': age1, 'Person 2': age2, 'Person 3': age3}\n",
    "ageInput = [age1, age2, age3]\n",
    "ageOrder = sorted(ageInput,reverse = True)\n",
    "\n",
    "for name, age in ageDict.items():  \n",
    "    if age == ageOrder[0]:\n",
    "        print(name, \"is oldest\")\n",
    "    if age == ageOrder[-1]:\n",
    "        print(name, \"is youngest\")"
   ]
  },
  {
   "cell_type": "markdown",
   "metadata": {},
   "source": [
    "### 4. A student will not be allowed to sit in exam if his/her attendance is less than 75%.\n",
    "\n",
    "Take following input from user\n",
    "\n",
    "- Number of classes held\n",
    "- Number of classes attended.\n",
    "- And print percentage of class attended\n",
    "- Is student is allowed to sit in exam or not?"
   ]
  },
  {
   "cell_type": "code",
   "execution_count": 159,
   "metadata": {},
   "outputs": [
    {
     "name": "stdout",
     "output_type": "stream",
     "text": [
      "Number of classes held: 6\n",
      "Number of classes attended: 6\n",
      "100 % of classes attended - allowed to sit in exam\n"
     ]
    }
   ],
   "source": [
    "classHeld = int(input(\"Number of classes held: \"))\n",
    "classAttended = int(input(\"Number of classes attended: \"))\n",
    "\n",
    "pctClassAttended = int(classAttended/classHeld*100)\n",
    "\n",
    "if (pctClassAttended < 75):\n",
    "    print(pctClassAttended, \"% of classes attended - not allowed to sit in exam\")\n",
    "else: \n",
    "    print(pctClassAttended, \"% of classes attended - allowed to sit in exam\")\n"
   ]
  },
  {
   "cell_type": "markdown",
   "metadata": {},
   "source": [
    "5. Get an integer N from the user and perform the following actions:\n",
    "\n",
    "Find out - \n",
    "- if N is odd, print \"weird\"\n",
    "- if N is even and in the inclusive range of 2 to 5, print \"Not Weird\"\n",
    "- if N is even and in the inclusive range of 6 to 20, print \"Weird\"\n",
    "- if N is even and greater than 20, print \"Not Weird\""
   ]
  },
  {
   "cell_type": "code",
   "execution_count": 164,
   "metadata": {},
   "outputs": [
    {
     "name": "stdout",
     "output_type": "stream",
     "text": [
      "Enter integer: 26\n",
      "Not Weird\n"
     ]
    }
   ],
   "source": [
    "integer = int(input(\"Enter integer: \"))\n",
    "\n",
    "if(integer % 2 != 0):\n",
    "    print(\"weird\")\n",
    "if(integer % 2 == 0 and integer >= 2 and integer <= 5):\n",
    "    print(\"Not Weird\")\n",
    "if (integer % 2 == 0 and integer >= 6 and integer <= 20):\n",
    "    print(\"Weird\")\n",
    "if (integer % 2 == 0 and integer > 20):\n",
    "    print(\"Not Weird\")"
   ]
  },
  {
   "cell_type": "markdown",
   "metadata": {},
   "source": [
    "- - -\n",
    "\n",
    "Copyright © 2020 Qualex Consulting Services Incorporated."
   ]
  }
 ],
 "metadata": {
  "kernelspec": {
   "display_name": "Python 3",
   "language": "python",
   "name": "python3"
  },
  "language_info": {
   "codemirror_mode": {
    "name": "ipython",
    "version": 3
   },
   "file_extension": ".py",
   "mimetype": "text/x-python",
   "name": "python",
   "nbconvert_exporter": "python",
   "pygments_lexer": "ipython3",
   "version": "3.7.3"
  }
 },
 "nbformat": 4,
 "nbformat_minor": 4
}
